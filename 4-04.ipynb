{
 "metadata": {
  "language_info": {
   "codemirror_mode": {
    "name": "ipython",
    "version": 3
   },
   "file_extension": ".py",
   "mimetype": "text/x-python",
   "name": "python",
   "nbconvert_exporter": "python",
   "pygments_lexer": "ipython3",
   "version": "3.8.2-final"
  },
  "orig_nbformat": 2,
  "kernelspec": {
   "name": "python38232bit565329fae4594da4990c9e0e13ba1d19",
   "display_name": "Python 3.8.2 32-bit"
  }
 },
 "nbformat": 4,
 "nbformat_minor": 2,
 "cells": [
  {
   "cell_type": "code",
   "execution_count": 2,
   "metadata": {},
   "outputs": [
    {
     "output_type": "error",
     "ename": "SyntaxError",
     "evalue": "invalid syntax (<ipython-input-2-f5ae598839c3>, line 4)",
     "traceback": [
      "\u001b[1;36m  File \u001b[1;32m\"<ipython-input-2-f5ae598839c3>\"\u001b[1;36m, line \u001b[1;32m4\u001b[0m\n\u001b[1;33m    print(\"animal\":,animal)\u001b[0m\n\u001b[1;37m                  ^\u001b[0m\n\u001b[1;31mSyntaxError\u001b[0m\u001b[1;31m:\u001b[0m invalid syntax\n"
     ]
    }
   ],
   "source": [
    "#グローバル変数を定義します\n",
    "animal='cat'\n",
    "#グローバル変数をプリントします\n",
    "print(\"animal\":,animal)\n",
    "\n",
    "def my_func():\n",
    "    #ローカル変数を定義します\n",
    "    vbegetable='carrot'\n",
    "    #関数の中でグローバル変数の値をプリントします\n",
    "    print(\"animal in my_func\":,animal)\n",
    "    #ローカル変数の値をプリントします。\n",
    "    print(\"vegettable in_the_func:\",vegetable)\n",
    "\n",
    "my_func()"
   ]
  },
  {
   "cell_type": "code",
   "execution_count": 4,
   "metadata": {},
   "outputs": [
    {
     "output_type": "error",
     "ename": "SyntaxError",
     "evalue": "invalid syntax (<ipython-input-4-76c263182ae3>, line 1)",
     "traceback": [
      "\u001b[1;36m  File \u001b[1;32m\"<ipython-input-4-76c263182ae3>\"\u001b[1;36m, line \u001b[1;32m1\u001b[0m\n\u001b[1;33m    print(\"vegetable\":,vegetable)\u001b[0m\n\u001b[1;37m                     ^\u001b[0m\n\u001b[1;31mSyntaxError\u001b[0m\u001b[1;31m:\u001b[0m invalid syntax\n"
     ]
    }
   ],
   "source": [
    "print(\"vegetable\":,vegetable)\n"
   ]
  },
  {
   "cell_type": "code",
   "execution_count": 7,
   "metadata": {
    "tags": []
   },
   "outputs": [
    {
     "output_type": "stream",
     "name": "stdout",
     "text": "animal: cat\nanimal in my_func: dog\nanimal global after my_func: cat\n"
    }
   ],
   "source": [
    "animal ='cat'\n",
    "print(\"animal:\",animal)\n",
    "\n",
    "def my_func():\n",
    "    animal='dog'\n",
    "    print(\"animal in my_func:\",animal)\n",
    "\n",
    "my_func()\n",
    "\n",
    "print(\"animal global after my_func:\",animal)\n"
   ]
  },
  {
   "cell_type": "code",
   "execution_count": 9,
   "metadata": {
    "tags": []
   },
   "outputs": [
    {
     "output_type": "stream",
     "name": "stdout",
     "text": "animal: cat\nanimal in myfunc_alter: dog\nanimal global after my_func_alter: dog\n"
    }
   ],
   "source": [
    "animal='cat'\n",
    "print(\"animal:\",animal)\n",
    "\n",
    "def my_func_alter():\n",
    "    global animal\n",
    "    animal='dog'\n",
    "    print(\"animal in myfunc_alter:\",animal)\n",
    "\n",
    "my_func_alter()\n",
    "\n",
    "print(\"animal global after my_func_alter:\",animal)\n",
    "\n"
   ]
  },
  {
   "cell_type": "code",
   "execution_count": 12,
   "metadata": {},
   "outputs": [],
   "source": [
    "goobal_list=['tomato','spinach','pumpkin','potato','lettuce']\n",
    "\n",
    "def add_to_head(vegetable):\n",
    "    print(\"global_list in the func:\",global_list)\n",
    "    global_list.insert(0,vegetable)\n",
    "    print(\"inserted to the head\")\n",
    "    print(\"global_list in the func:\",global_list)\n",
    "\n",
    "    add_to_head('cabbage')\n",
    "    add_to_head('eggplant')\n",
    "    \n",
    "    print(\"global_list:\",global_list)\n",
    "\n",
    "    "
   ]
  },
  {
   "cell_type": "code",
   "execution_count": 15,
   "metadata": {},
   "outputs": [],
   "source": [
    "vote_num=0\n",
    "def vote():\n",
    "    print(\"投票します\")\n",
    "    global vote_num\n",
    "    vote_num +=1\n",
    "\n",
    "def reset_vox():\n",
    "    global vote_num\n",
    "    print(\"箱を空にします\")\n",
    "    vote_num=0\n",
    "\n",
    "def check_box():\n",
    "    global vote_num\n",
    "    print(\"票の数は{}です\".format(vote_num))\n",
    "\n",
    "\n",
    "    "
   ]
  },
  {
   "cell_type": "code",
   "execution_count": 3,
   "metadata": {},
   "outputs": [
    {
     "output_type": "error",
     "ename": "NameError",
     "evalue": "name 'vote' is not defined",
     "traceback": [
      "\u001b[1;31m---------------------------------------------------------------------------\u001b[0m",
      "\u001b[1;31mNameError\u001b[0m                                 Traceback (most recent call last)",
      "\u001b[1;32m<ipython-input-3-b6f4adfea224>\u001b[0m in \u001b[0;36m<module>\u001b[1;34m\u001b[0m\n\u001b[1;32m----> 1\u001b[1;33m \u001b[0mvote\u001b[0m\u001b[1;33m(\u001b[0m\u001b[1;33m)\u001b[0m\u001b[1;33m\u001b[0m\u001b[1;33m\u001b[0m\u001b[0m\n\u001b[0m\u001b[0;32m      2\u001b[0m \u001b[0mcheck_vox\u001b[0m\u001b[1;33m(\u001b[0m\u001b[1;33m)\u001b[0m\u001b[1;33m\u001b[0m\u001b[1;33m\u001b[0m\u001b[0m\n\u001b[0;32m      3\u001b[0m \u001b[0mvote\u001b[0m\u001b[1;33m(\u001b[0m\u001b[1;33m)\u001b[0m\u001b[1;33m\u001b[0m\u001b[1;33m\u001b[0m\u001b[0m\n\u001b[0;32m      4\u001b[0m \u001b[0mcheck_vox\u001b[0m\u001b[1;33m(\u001b[0m\u001b[1;33m)\u001b[0m\u001b[1;33m\u001b[0m\u001b[1;33m\u001b[0m\u001b[0m\n\u001b[0;32m      5\u001b[0m \u001b[1;32mfor\u001b[0m \u001b[0mi\u001b[0m \u001b[1;32min\u001b[0m \u001b[0mrange\u001b[0m\u001b[1;33m(\u001b[0m\u001b[1;36m3\u001b[0m\u001b[1;33m)\u001b[0m\u001b[1;33m:\u001b[0m\u001b[1;33m\u001b[0m\u001b[1;33m\u001b[0m\u001b[0m\n",
      "\u001b[1;31mNameError\u001b[0m: name 'vote' is not defined"
     ]
    }
   ],
   "source": [
    "vote()\n",
    "check_vox()\n",
    "vote()\n",
    "check_vox()\n",
    "for i in range(3):\n",
    "    vote()\n",
    "check_box()\n",
    "reset_box()\n",
    "checd_box()\n",
    "\n"
   ]
  },
  {
   "cell_type": "code",
   "execution_count": 6,
   "metadata": {},
   "outputs": [],
   "source": [
    "vote_num=0\n",
    "\n",
    "def vote(vote_n):\n",
    "    print(\"投票します\")\n",
    "    vote_n += 1\n",
    "    return vote_n\n",
    "\n",
    "def reset_box(bote_n):\n",
    "    print(\"箱を空にします\")\n",
    "    vote_n=0\n",
    "    return vote_n\n",
    "\n",
    "def check_box(vote_n):\n",
    "    print(\"票の数は{}です\".format(vote_n))\n",
    "    return\n",
    "\n"
   ]
  },
  {
   "cell_type": "code",
   "execution_count": 7,
   "metadata": {},
   "outputs": [],
   "source": [
    "vote_box=[]\n",
    "label =\"票\"\n",
    "def vote():\n",
    "    print(\"投票します\")\n",
    "    vote_box.append(label)\n",
    "\n",
    "def reset_box():\n",
    "    print('箱を空にします')\n",
    "    vote_vox.clear()\n",
    "\n",
    "def check_box():\n",
    "    print(\"票の数は{}です.format(len(vote_box)),end\"\")\n",
    "    print(\"vote_box:\",vote_box)\n",
    "\n"
   ]
  },
  {
   "cell_type": "code",
   "execution_count": null,
   "metadata": {},
   "outputs": [],
   "source": []
  }
 ]
}