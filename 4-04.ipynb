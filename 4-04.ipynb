{
 "metadata": {
  "language_info": {
   "codemirror_mode": {
    "name": "ipython",
    "version": 3
   },
   "file_extension": ".py",
   "mimetype": "text/x-python",
   "name": "python",
   "nbconvert_exporter": "python",
   "pygments_lexer": "ipython3",
   "version": 3
  },
  "orig_nbformat": 2,
  "kernelspec": {
   "name": "python_defaultSpec_1598166755358",
   "display_name": "Python 3.8.2 32-bit"
  }
 },
 "nbformat": 4,
 "nbformat_minor": 2,
 "cells": [
  {
   "cell_type": "code",
   "execution_count": 1,
   "metadata": {
    "tags": []
   },
   "outputs": [
    {
     "output_type": "stream",
     "name": "stdout",
     "text": "animal: cat\nanimal in my_func: cat\nvegetavle in_the_func: carrot\n"
    }
   ],
   "source": [
    "animal = 'cat'\n",
    "print(\"animal:\", animal)\n",
    "\n",
    "def my_func():\n",
    "    vegetable = 'carrot'\n",
    "    print(\"animal in my_func:\", animal)\n",
    "    print(\"vegetavle in_the_func:\", vegetable)\n",
    "\n",
    "my_func()"
   ]
  },
  {
   "cell_type": "code",
   "execution_count": 2,
   "metadata": {
    "tags": []
   },
   "outputs": [
    {
     "output_type": "stream",
     "name": "stdout",
     "text": "animal: cat\nanimal in my_func: dog\nanimal global after my?func: cat\n"
    }
   ],
   "source": [
    "animal = 'cat'\n",
    "print(\"animal:\", animal)\n",
    "\n",
    "def my_func():\n",
    "    animal = 'dog'\n",
    "    print(\"animal in my_func:\", animal)\n",
    "\n",
    "my_func()\n",
    "print(\"animal global after my?func:\", animal)"
   ]
  },
  {
   "cell_type": "code",
   "execution_count": 5,
   "metadata": {
    "tags": []
   },
   "outputs": [
    {
     "output_type": "stream",
     "name": "stdout",
     "text": "global_list in the func: ['tomato', 'spinach', 'pumpkin', 'potato', 'lettuce']\ninserted to the head\nglobal_list in the func: ['cabbge', 'tomato', 'spinach', 'pumpkin', 'potato', 'lettuce']\nglobal_list in the func: ['cabbge', 'tomato', 'spinach', 'pumpkin', 'potato', 'lettuce']\ninserted to the head\nglobal_list in the func: ['eggplant', 'cabbge', 'tomato', 'spinach', 'pumpkin', 'potato', 'lettuce']\nglobal_list: ['eggplant', 'cabbge', 'tomato', 'spinach', 'pumpkin', 'potato', 'lettuce']\n"
    }
   ],
   "source": [
    "global_list = ['tomato', 'spinach', 'pumpkin', 'potato', 'lettuce']\n",
    "\n",
    "def add_to_head(vegetable):\n",
    "    print(\"global_list in the func:\", global_list)\n",
    "    global_list.insert(0, vegetable)\n",
    "    print(\"inserted to the head\")\n",
    "    print(\"global_list in the func:\", global_list)\n",
    "add_to_head('cabbge')\n",
    "add_to_head('eggplant')\n",
    "\n",
    "print(\"global_list:\", global_list)"
   ]
  },
  {
   "cell_type": "code",
   "execution_count": null,
   "metadata": {},
   "outputs": [],
   "source": []
  }
 ]
}