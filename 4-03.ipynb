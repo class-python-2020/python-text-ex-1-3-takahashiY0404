{
 "metadata": {
  "language_info": {
   "codemirror_mode": {
    "name": "ipython",
    "version": 3
   },
   "file_extension": ".py",
   "mimetype": "text/x-python",
   "name": "python",
   "nbconvert_exporter": "python",
   "pygments_lexer": "ipython3",
   "version": "3.8.2-final"
  },
  "orig_nbformat": 2,
  "kernelspec": {
   "name": "python38232bit565329fae4594da4990c9e0e13ba1d19",
   "display_name": "Python 3.8.2 32-bit"
  }
 },
 "nbformat": 4,
 "nbformat_minor": 2,
 "cells": [
  {
   "cell_type": "code",
   "execution_count": 2,
   "metadata": {},
   "outputs": [],
   "source": [
    "def show_args(*args):\n",
    "    '''与えられた複数の位置引数をタブるにまとめて受けて李その他ブルを表示して返す'''\n",
    "    print('positional arguments:',args)\n",
    "    return args"
   ]
  },
  {
   "cell_type": "code",
   "execution_count": 4,
   "metadata": {
    "tags": []
   },
   "outputs": [
    {
     "output_type": "stream",
     "name": "stdout",
     "text": "positional arguments: (1, 2, 3, 'da!')\n"
    },
    {
     "output_type": "execute_result",
     "data": {
      "text/plain": "(1, 2, 3, 'da!')"
     },
     "metadata": {},
     "execution_count": 4
    }
   ],
   "source": [
    "show_args(1,2,3,'da!')"
   ]
  },
  {
   "cell_type": "code",
   "execution_count": 6,
   "metadata": {},
   "outputs": [],
   "source": [
    "def show_kwargs(**kwargs):\n",
    "    '''与えられた複数のキーワード引数を辞書にまとめて受け取りその辞書を表示して返す'''\n",
    "    print('keyword arguments:',kwargs)\n",
    "    return kwargs"
   ]
  },
  {
   "cell_type": "code",
   "execution_count": 8,
   "metadata": {
    "tags": []
   },
   "outputs": [
    {
     "output_type": "stream",
     "name": "stdout",
     "text": "keyword arguments: {'pasta': 'ペンネ', 'drink': '赤ワイン', 'main_dish': '肉料理', 'n_customers': 3}\n"
    },
    {
     "output_type": "execute_result",
     "data": {
      "text/plain": "{'pasta': 'ペンネ', 'drink': '赤ワイン', 'main_dish': '肉料理', 'n_customers': 3}"
     },
     "metadata": {},
     "execution_count": 8
    }
   ],
   "source": [
    "show_kwargs(pasta='ペンネ',drink='赤ワイン',main_dish='肉料理',n_customers=3)"
   ]
  },
  {
   "cell_type": "code",
   "execution_count": 11,
   "metadata": {
    "tags": []
   },
   "outputs": [
    {
     "output_type": "stream",
     "name": "stdout",
     "text": "positional arguments: (4, 5, 6, 'ya')\n"
    },
    {
     "output_type": "execute_result",
     "data": {
      "text/plain": "(4, 5, 6, 'ya')"
     },
     "metadata": {},
     "execution_count": 11
    }
   ],
   "source": [
    "positional_args=(4,5,6,'ya')\n",
    "show_args(*positional_args)\n"
   ]
  },
  {
   "cell_type": "code",
   "execution_count": 13,
   "metadata": {},
   "outputs": [],
   "source": [
    "positional_args=[4,5,6,'ya']"
   ]
  },
  {
   "cell_type": "code",
   "execution_count": 15,
   "metadata": {
    "tags": []
   },
   "outputs": [
    {
     "output_type": "stream",
     "name": "stdout",
     "text": "keyword arguments: {'pasta': 'ペンネ', 'drink': '赤ワイン', 'main_dish': '肉料理', 'n_customers': 3}\n"
    },
    {
     "output_type": "execute_result",
     "data": {
      "text/plain": "{'pasta': 'ペンネ', 'drink': '赤ワイン', 'main_dish': '肉料理', 'n_customers': 3}"
     },
     "metadata": {},
     "execution_count": 15
    }
   ],
   "source": [
    "keyword_args={'pasta':'ペンネ','drink':'赤ワイン','main_dish':'肉料理','n_customers':3}\n",
    "show_kwargs(**keyword_args)"
   ]
  },
  {
   "cell_type": "code",
   "execution_count": 17,
   "metadata": {},
   "outputs": [
    {
     "output_type": "execute_result",
     "data": {
      "text/plain": "'a_b_c'"
     },
     "metadata": {},
     "execution_count": 17
    }
   ],
   "source": [
    "names=('a','b','c')\n",
    "sep='_'\n",
    "sep.join(names)"
   ]
  },
  {
   "cell_type": "code",
   "execution_count": 19,
   "metadata": {},
   "outputs": [
    {
     "output_type": "error",
     "ename": "SyntaxError",
     "evalue": "invalid syntax (<ipython-input-19-89b4137dd203>, line 1)",
     "traceback": [
      "\u001b[1;36m  File \u001b[1;32m\"<ipython-input-19-89b4137dd203>\"\u001b[1;36m, line \u001b[1;32m1\u001b[0m\n\u001b[1;33m    def concat_words(*args,separator='.')\u001b[0m\n\u001b[1;37m                                         ^\u001b[0m\n\u001b[1;31mSyntaxError\u001b[0m\u001b[1;31m:\u001b[0m invalid syntax\n"
     ]
    }
   ],
   "source": [
    "def concat_words(*args,separator='.')\n",
    "'''任意の数の位置引数と区切り文字を受け取り、区切り文字でつなげる'''\n",
    "return separator.join(args)"
   ]
  },
  {
   "cell_type": "code",
   "execution_count": 21,
   "metadata": {},
   "outputs": [
    {
     "output_type": "error",
     "ename": "SyntaxError",
     "evalue": "unmatched '}' (<ipython-input-21-92c428daa71e>, line 1)",
     "traceback": [
      "\u001b[1;36m  File \u001b[1;32m\"<ipython-input-21-92c428daa71e>\"\u001b[1;36m, line \u001b[1;32m1\u001b[0m\n\u001b[1;33m    concat}_words('a','b','c',separator='_')\u001b[0m\n\u001b[1;37m          ^\u001b[0m\n\u001b[1;31mSyntaxError\u001b[0m\u001b[1;31m:\u001b[0m unmatched '}'\n"
     ]
    }
   ],
   "source": [
    "    concat}_words('a','b','c',separator='_')"
   ]
  },
  {
   "cell_type": "code",
   "execution_count": 22,
   "metadata": {},
   "outputs": [
    {
     "output_type": "error",
     "ename": "NameError",
     "evalue": "name 'concat_words' is not defined",
     "traceback": [
      "\u001b[1;31m---------------------------------------------------------------------------\u001b[0m",
      "\u001b[1;31mNameError\u001b[0m                                 Traceback (most recent call last)",
      "\u001b[1;32m<ipython-input-22-567af7fce15f>\u001b[0m in \u001b[0;36m<module>\u001b[1;34m\u001b[0m\n\u001b[1;32m----> 1\u001b[1;33m \u001b[0mconcat_words\u001b[0m\u001b[1;33m(\u001b[0m\u001b[1;34m'4_choume'\u001b[0m\u001b[1;33m,\u001b[0m\u001b[1;34m'minatoku'\u001b[0m\u001b[1;33m,\u001b[0m\u001b[1;34m'tokyo'\u001b[0m\u001b[1;33m,\u001b[0m\u001b[1;34m'japan'\u001b[0m\u001b[1;33m,\u001b[0m\u001b[0mseparator\u001b[0m\u001b[1;33m=\u001b[0m\u001b[1;34m''\u001b[0m\u001b[1;33m)\u001b[0m\u001b[1;33m\u001b[0m\u001b[1;33m\u001b[0m\u001b[0m\n\u001b[0m\u001b[0;32m      2\u001b[0m \u001b[1;33m\u001b[0m\u001b[0m\n",
      "\u001b[1;31mNameError\u001b[0m: name 'concat_words' is not defined"
     ]
    }
   ],
   "source": [
    "concat_words('4_choume','minatoku','tokyo','japan',separator='')\n",
    "\n"
   ]
  },
  {
   "cell_type": "code",
   "execution_count": 24,
   "metadata": {},
   "outputs": [
    {
     "output_type": "error",
     "ename": "SyntaxError",
     "evalue": "invalid syntax (<ipython-input-24-074c7f8538e6>, line 3)",
     "traceback": [
      "\u001b[1;36m  File \u001b[1;32m\"<ipython-input-24-074c7f8538e6>\"\u001b[1;36m, line \u001b[1;32m3\u001b[0m\n\u001b[1;33m    print(''args:'',args)\u001b[0m\n\u001b[1;37m            ^\u001b[0m\n\u001b[1;31mSyntaxError\u001b[0m\u001b[1;31m:\u001b[0m invalid syntax\n"
     ]
    }
   ],
   "source": [
    "numbers=[1,2,3,4]\n",
    "def func_hint(*args):\n",
    "    print(''args:'',args)\n",
    "    print(''len(args):'',len(args))\n",
    "\n",
    "func_hint(*numbers)"
   ]
  },
  {
   "cell_type": "code",
   "execution_count": 26,
   "metadata": {
    "tags": []
   },
   "outputs": [
    {
     "output_type": "stream",
     "name": "stdout",
     "text": "[0, 1, 2, 3, 4, 5, 6, 7, 8, 9, 10, 11, 12, 13, 14, 15, 16, 17, 18, 19, 20, 21, 22, 23, 24, 25, 26, 27, 28, 29, 30, 31, 32, 33, 34, 35, 36, 37, 38, 39, 40, 41, 42, 43, 44, 45, 46, 47, 48, 49, 50, 51, 52, 53, 54, 55, 56, 57, 58, 59, 60, 61, 62, 63, 64, 65, 66, 67, 68, 69, 70, 71, 72, 73, 74, 75, 76, 77, 78, 79, 80, 81, 82, 83, 84, 85, 86, 87, 88, 89, 90, 91, 92, 93, 94, 95, 96, 97, 98, 99]\n"
    }
   ],
   "source": [
    "many_numbers=list(range(100))\n",
    "print(many_numbers)"
   ]
  },
  {
   "cell_type": "code",
   "execution_count": 27,
   "metadata": {},
   "outputs": [],
   "source": [
    "def func_square(*args):\n",
    "    results=[]\n",
    "    for n in args:\n",
    "        results.append(n*n)\n",
    "    \n",
    "numbers=[1,2,3,4]\n",
    "func_square(*numbers)\n"
   ]
  },
  {
   "cell_type": "code",
   "execution_count": 29,
   "metadata": {
    "tags": []
   },
   "outputs": [
    {
     "output_type": "stream",
     "name": "stdout",
     "text": "None\n"
    }
   ],
   "source": [
    "many_numbers=list(range(100))\n",
    "print(func_square(*many_numbers))"
   ]
  },
  {
   "cell_type": "code",
   "execution_count": null,
   "metadata": {},
   "outputs": [],
   "source": []
  }
 ]
}