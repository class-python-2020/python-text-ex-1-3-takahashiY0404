{
 "metadata": {
  "language_info": {
   "codemirror_mode": {
    "name": "ipython",
    "version": 3
   },
   "file_extension": ".py",
   "mimetype": "text/x-python",
   "name": "python",
   "nbconvert_exporter": "python",
   "pygments_lexer": "ipython3",
   "version": "3.8.2-final"
  },
  "orig_nbformat": 2,
  "kernelspec": {
   "name": "python38232bit565329fae4594da4990c9e0e13ba1d19",
   "display_name": "Python 3.8.2 32-bit"
  }
 },
 "nbformat": 4,
 "nbformat_minor": 2,
 "cells": [
  {
   "cell_type": "code",
   "execution_count": 2,
   "metadata": {},
   "outputs": [
    {
     "output_type": "error",
     "ename": "SyntaxError",
     "evalue": "invalid syntax (<ipython-input-2-babeb8b39605>, line 1)",
     "traceback": [
      "\u001b[1;36m  File \u001b[1;32m\"<ipython-input-2-babeb8b39605>\"\u001b[1;36m, line \u001b[1;32m1\u001b[0m\n\u001b[1;33m    intdict={'1':'one',;'2':'two','3':'three'}\u001b[0m\n\u001b[1;37m                       ^\u001b[0m\n\u001b[1;31mSyntaxError\u001b[0m\u001b[1;31m:\u001b[0m invalid syntax\n"
     ]
    }
   ],
   "source": [
    "intdict={'1':'one',;'2':'two','3':'three'}\n",
    "for key,val in intdict.items():\n",
    "    print(key,val)\n",
    "\n",
    "    "
   ]
  },
  {
   "cell_type": "code",
   "execution_count": 4,
   "metadata": {
    "tags": []
   },
   "outputs": [
    {
     "output_type": "stream",
     "name": "stdout",
     "text": "0 fuji\n1 kitadake\n2 okuhodakadake\n"
    }
   ],
   "source": [
    "mountains=['fuji','kitadake','okuhodakadake']\n",
    "for i, mt in enumerate(mountains):\n",
    "    print(i,mt)"
   ]
  },
  {
   "cell_type": "code",
   "execution_count": 6,
   "metadata": {},
   "outputs": [
    {
     "output_type": "error",
     "ename": "NameError",
     "evalue": "name 'odrr' is not defined",
     "traceback": [
      "\u001b[1;31m---------------------------------------------------------------------------\u001b[0m",
      "\u001b[1;31mNameError\u001b[0m                                 Traceback (most recent call last)",
      "\u001b[1;32m<ipython-input-6-47f864c277f3>\u001b[0m in \u001b[0;36m<module>\u001b[1;34m\u001b[0m\n\u001b[0;32m      3\u001b[0m \u001b[0mheight\u001b[0m\u001b[1;33m=\u001b[0m\u001b[1;33m[\u001b[0m\u001b[1;36m3776\u001b[0m\u001b[1;33m,\u001b[0m\u001b[1;36m3193\u001b[0m\u001b[1;33m,\u001b[0m\u001b[1;36m3190\u001b[0m\u001b[1;33m]\u001b[0m\u001b[1;33m\u001b[0m\u001b[1;33m\u001b[0m\u001b[0m\n\u001b[0;32m      4\u001b[0m \u001b[1;32mfor\u001b[0m \u001b[0modr\u001b[0m\u001b[1;33m,\u001b[0m\u001b[0mmt\u001b[0m\u001b[1;33m,\u001b[0m\u001b[0mht\u001b[0m \u001b[1;32min\u001b[0m \u001b[0mzip\u001b[0m\u001b[1;33m(\u001b[0m\u001b[0morder\u001b[0m\u001b[1;33m,\u001b[0m\u001b[0mmountains\u001b[0m\u001b[1;33m,\u001b[0m\u001b[0mheight\u001b[0m\u001b[1;33m)\u001b[0m\u001b[1;33m:\u001b[0m\u001b[1;33m\u001b[0m\u001b[1;33m\u001b[0m\u001b[0m\n\u001b[1;32m----> 5\u001b[1;33m     \u001b[0mprint\u001b[0m\u001b[1;33m(\u001b[0m\u001b[0modrr\u001b[0m\u001b[1;33m,\u001b[0m\u001b[0mmt\u001b[0m\u001b[1;33m,\u001b[0m\u001b[0mht\u001b[0m\u001b[1;33m)\u001b[0m\u001b[1;33m\u001b[0m\u001b[1;33m\u001b[0m\u001b[0m\n\u001b[0m",
      "\u001b[1;31mNameError\u001b[0m: name 'odrr' is not defined"
     ]
    }
   ],
   "source": [
    "order=[1,2,3]\n",
    "mountains=['fuji','kitadake','okuhodakadake']\n",
    "height=[3776,3193,3190]\n",
    "for odr,mt,ht in zip(order,mountains,height):\n",
    "    print(odrr,mt,ht)"
   ]
  },
  {
   "cell_type": "code",
   "execution_count": 8,
   "metadata": {},
   "outputs": [
    {
     "output_type": "error",
     "ename": "SyntaxError",
     "evalue": "invalid syntax (<ipython-input-8-f269cbbf6bc5>, line 2)",
     "traceback": [
      "\u001b[1;36m  File \u001b[1;32m\"<ipython-input-8-f269cbbf6bc5>\"\u001b[1;36m, line \u001b[1;32m2\u001b[0m\n\u001b[1;33m    for mt sorted(mountains):\u001b[0m\n\u001b[1;37m           ^\u001b[0m\n\u001b[1;31mSyntaxError\u001b[0m\u001b[1;31m:\u001b[0m invalid syntax\n"
     ]
    }
   ],
   "source": [
    "mountains=['kitadake','okuhodakadake','fuji']\n",
    "for mt sorted(mountains):\n",
    "    print(mt)"
   ]
  },
  {
   "cell_type": "code",
   "execution_count": 10,
   "metadata": {
    "tags": []
   },
   "outputs": [
    {
     "output_type": "stream",
     "name": "stdout",
     "text": "okuhodakadake\nkitadake\nfuji\n"
    }
   ],
   "source": [
    "mountains=['fuji','kitadake','okuhodakadake']\n",
    "for mt in reversed(mountains):\n",
    "    print(mt)"
   ]
  },
  {
   "cell_type": "code",
   "execution_count": null,
   "metadata": {},
   "outputs": [],
   "source": []
  }
 ]
}